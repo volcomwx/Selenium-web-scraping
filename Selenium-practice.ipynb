{
 "cells": [
  {
   "cell_type": "code",
   "execution_count": 76,
   "id": "1781eaa7-c4a8-4f24-b3bb-f699c014f450",
   "metadata": {},
   "outputs": [],
   "source": [
    "from selenium import webdriver\n",
    "from selenium.webdriver.common.by import By\n",
    "from time import sleep\n",
    "import pandas as pd\n",
    "\n",
    "path = \"C://Users/Administrator/chromedriver.exe\"\n",
    "driver = webdriver.Chrome()\n",
    "driver.get('https://webscraper.io/test-sites/e-commerce/static')\n",
    "clickobj = driver.find_element(By.XPATH, \"(//*[@id='side-menu']/li[3]/a)\")\n",
    "clickobj.click()\n",
    "driver.find_element(By.XPATH, '//*[@id=\"side-menu\"]/li[3]/ul/li[1]/a').click()\n"
   ]
  },
  {
   "cell_type": "code",
   "execution_count": 77,
   "id": "2cbc5514-3115-4757-86b3-fff44625f829",
   "metadata": {},
   "outputs": [
    {
     "name": "stdout",
     "output_type": "stream",
     "text": [
      "{'title': ['Lenovo IdeaTab', 'Acer Iconia', 'Asus MeMO Pad', 'Amazon Kindle', 'iPad Mini Reti...', 'IdeaTab A3500L', 'Galaxy Tab', 'IdeaTab A3500-...', 'Galaxy Tab 3', 'Galaxy Note', 'MeMO Pad 7', 'Galaxy Tab 4', 'Galaxy Tab 3', 'Memo Pad HD 7', 'Galaxy Note 10...', 'MeMo PAD FHD 1...', 'IdeaTab S5000', 'Iconia B1-730H...', 'IdeaTab A8-50', 'Galaxy Note', 'Apple iPad Air'], 'link': ['https://webscraper.io/test-sites/e-commerce/static/product/495', 'https://webscraper.io/test-sites/e-commerce/static/product/496', 'https://webscraper.io/test-sites/e-commerce/static/product/497', 'https://webscraper.io/test-sites/e-commerce/static/product/498', 'https://webscraper.io/test-sites/e-commerce/static/product/499', 'https://webscraper.io/test-sites/e-commerce/static/product/500', 'https://webscraper.io/test-sites/e-commerce/static/product/501', 'https://webscraper.io/test-sites/e-commerce/static/product/502', 'https://webscraper.io/test-sites/e-commerce/static/product/503', 'https://webscraper.io/test-sites/e-commerce/static/product/504', 'https://webscraper.io/test-sites/e-commerce/static/product/505', 'https://webscraper.io/test-sites/e-commerce/static/product/506', 'https://webscraper.io/test-sites/e-commerce/static/product/507', 'https://webscraper.io/test-sites/e-commerce/static/product/508', 'https://webscraper.io/test-sites/e-commerce/static/product/509', 'https://webscraper.io/test-sites/e-commerce/static/product/510', 'https://webscraper.io/test-sites/e-commerce/static/product/511', 'https://webscraper.io/test-sites/e-commerce/static/product/512', 'https://webscraper.io/test-sites/e-commerce/static/product/513', 'https://webscraper.io/test-sites/e-commerce/static/product/514', 'https://webscraper.io/test-sites/e-commerce/static/product/515'], 'price': ['$69.99', '$96.99', '$102.99', '$103.99', '$537.99', '$88.99', '$251.99', '$148.99', '$97.99', '$489.99', '$130.99', '$233.99', '$107.99', '$101.99', '$587.99', '$320.99', '$172.99', '$99.99', '$121.99', '$399.99', '$603.99'], 'description': ['7\" screen, Android', '7\" screen, Android, 16GB', '7\" screen, Android, 8GB', '6\" screen, wifi', 'Wi-Fi + Cellular, 32GB, Silver', 'Black, 7\" IPS, Quad-Core 1.2GHz, 8GB, Android 4.2', '16GB, White', 'Blue, 7\" IPS, Quad-Core 1.3GHz, 8GB, 3G, Android 4.2', '7\", 8GB, Wi-Fi, Android 4.2, White', '12.2\", 32GB, WiFi, Android 4.4, White', 'White, 7\", Atom 1.2GHz, 8GB, Android 4.4', 'LTE (SM-T235), Quad-Core 1.2GHz, 8GB, Black', '7\", 8GB, Wi-Fi, Android 4.2, Yellow', 'IPS, Dual-Core 1.2GHz, 8GB, Android 4.3', '10.1\", 32GB, Black', 'White, 10.1\" IPS, 1.6GHz, 2GB, 16GB, Android 4.2', 'Silver, 7\" IPS, Quad-Core 1.2Ghz, 16GB, 3G, Android 4.2', 'Black, 7\", 1.6GHz Dual-Core, 8GB, Android 4.4', 'Blue, 8\" IPS, Quad-Core 1.3GHz, 16GB, Android 4.2', '10.1\", 3G, Android 4.0, Garnet Red', 'Wi-Fi, 64GB, Silver'], 'rating': ['3', '1', '4', '4', '2', '4', '3', '2', '2', '3', '1', '4', '2', '2', '2', '2', '3', '3', '2', '4', '3']}\n"
     ]
    }
   ],
   "source": [
    "\n",
    "ListOfitem = {'title': [], 'link': [], 'price': [], 'description': [], 'rating': []}\n",
    "\n",
    "while True:\n",
    "    productInfoList = driver.find_elements(By.CLASS_NAME, 'card-body')\n",
    "\n",
    "    for product in productInfoList:\n",
    "        Title = product.find_elements(By.TAG_NAME, 'h4')[1].text\n",
    "        URL = product.find_elements(By.TAG_NAME, 'h4')[1].find_element(By.TAG_NAME, 'a').get_property(\"href\")\n",
    "        Price = product.find_element(By.TAG_NAME, 'h4').text\n",
    "        Description = product.find_element(By.TAG_NAME, 'p').text\n",
    "        Rating = product.find_elements(By.TAG_NAME, 'p')[-1].get_attribute(\"data-rating\")\n",
    "\n",
    "        ListOfitem['title'].append(Title)\n",
    "        ListOfitem['link'].append(URL)\n",
    "        ListOfitem['price'].append(Price)\n",
    "        ListOfitem['description'].append(Description)\n",
    "        ListOfitem['rating'].append(Rating)\n",
    "\n",
    "    try:\n",
    "        button = driver.find_element(By.XPATH, '//*[@id=\"static-pagination\"]/nav/ul/li[6]/a')\n",
    "        button.click()\n",
    "    except:\n",
    "        break \n",
    "\n",
    "    sleep(5)\n",
    "\n",
    "driver.quit()\n",
    "\n",
    "print(ListOfitem)"
   ]
  },
  {
   "cell_type": "code",
   "execution_count": 80,
   "id": "9328833b-157d-47bf-817b-1f7e31324dac",
   "metadata": {},
   "outputs": [],
   "source": [
    "df = pd.DataFrame(ListOfitem)\n",
    "csv_file_path = \"E:/Resume/Scrapingtest.csv\"\n",
    "df.to_csv(csv_file_path, index=False)"
   ]
  },
  {
   "cell_type": "code",
   "execution_count": null,
   "id": "6639d9ee-e82c-4fb5-b5cd-264cde687d5c",
   "metadata": {},
   "outputs": [],
   "source": []
  }
 ],
 "metadata": {
  "kernelspec": {
   "display_name": "Python 3 (ipykernel)",
   "language": "python",
   "name": "python3"
  },
  "language_info": {
   "codemirror_mode": {
    "name": "ipython",
    "version": 3
   },
   "file_extension": ".py",
   "mimetype": "text/x-python",
   "name": "python",
   "nbconvert_exporter": "python",
   "pygments_lexer": "ipython3",
   "version": "3.11.4"
  }
 },
 "nbformat": 4,
 "nbformat_minor": 5
}
